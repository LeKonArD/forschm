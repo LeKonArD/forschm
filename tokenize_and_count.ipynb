{
 "cells": [
  {
   "cell_type": "code",
   "execution_count": 28,
   "metadata": {},
   "outputs": [],
   "source": [
    "import spacy as sp\n",
    "import pandas as pd\n",
    "import re\n",
    "import os\n",
    "from collections import Counter\n",
    "from tqdm.notebook import tqdm"
   ]
  },
  {
   "cell_type": "code",
   "execution_count": 4,
   "metadata": {},
   "outputs": [],
   "source": [
    "nlp = sp.load(\"de_core_news_lg\")"
   ]
  },
  {
   "cell_type": "code",
   "execution_count": 17,
   "metadata": {},
   "outputs": [],
   "source": [
    "files = os.listdir(\"zeit_2010er\")"
   ]
  },
  {
   "cell_type": "code",
   "execution_count": 34,
   "metadata": {},
   "outputs": [],
   "source": [
    "for fname in files:\n",
    "    \n",
    "    text = open(\"zeit_2010er/\"+fname).read()\n",
    "    doc = nlp(text)\n",
    "    tokens = list()\n",
    "    \n",
    "    for token in doc:\n",
    "        \n",
    "        if token.pos_ not in [\"SPACE\",\"NUM\",\"PUNCT\"]:\n",
    "        \n",
    "            tokens.append(token.lemma_.lower())\n",
    "        \n",
    "    pd.DataFrame.from_dict(Counter(tokens), orient=\"index\", columns=[\"count\"]).to_csv(\"zeit_2010er_lemma/\"+fname, sep=\"\\t\")\n",
    "    "
   ]
  },
  {
   "cell_type": "code",
   "execution_count": 39,
   "metadata": {},
   "outputs": [
    {
     "name": "stdout",
     "output_type": "stream",
     "text": [
      "der\n",
      "sein\n",
      "einen\n",
      "Text\n"
     ]
    }
   ],
   "source": [
    "doc = nlp(\"Das ist ein Text\")\n",
    "for token in doc:\n",
    "        \n",
    "    print(token.lemma_)\n",
    "        "
   ]
  }
 ],
 "metadata": {
  "kernelspec": {
   "display_name": "test",
   "language": "python",
   "name": "test"
  },
  "language_info": {
   "codemirror_mode": {
    "name": "ipython",
    "version": 3
   },
   "file_extension": ".py",
   "mimetype": "text/x-python",
   "name": "python",
   "nbconvert_exporter": "python",
   "pygments_lexer": "ipython3",
   "version": "3.8.10"
  }
 },
 "nbformat": 4,
 "nbformat_minor": 4
}
